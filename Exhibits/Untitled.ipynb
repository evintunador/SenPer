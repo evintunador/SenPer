{
 "cells": [
  {
   "cell_type": "code",
   "execution_count": 1,
   "id": "cfeb38cd",
   "metadata": {},
   "outputs": [],
   "source": [
    "import matplotlib.pyplot as plt"
   ]
  },
  {
   "cell_type": "code",
   "execution_count": null,
   "id": "57ee1c36",
   "metadata": {},
   "outputs": [],
   "source": [
    "fig = plt.figure()\n",
    "\n",
    "# Perception Function\n",
    "ax1 = plt.subplot2grid((3, 4), (4, 0), colspan=4, rowspan=2)\n",
    "ax1.bar(dim_range, [max(fit)] * (settings['dim_range'] + 1), color=per_col)\n",
    "ax1.plot(range(settings['dim_range'] + 1), fit, 'black')\n",
    "ax1.get_xaxis().set_visible(False)\n",
    "\n",
    "# Sensation Function\n",
    "ax2 = plt.subplot2grid((3, 4), (6, 0), colspan=4)\n",
    "ax2.bar(dim_range, [1] * (settings['dim_range'] + 1), color=sen_col)\n",
    "ax2.get_yaxis().set_visible(False)\n",
    "\n",
    "plt.xlabel(f\"This robot is from epoch {epoch} gen {gen}, highscore {round(stats['best_game'], 2)}, avg {round(stats['fit'], 2)}, and chose random {stats['rand_ct']} times\")\n",
    "fig.show()\n",
    "fig.clf()"
   ]
  }
 ],
 "metadata": {
  "kernelspec": {
   "display_name": "Python 3 (ipykernel)",
   "language": "python",
   "name": "python3"
  },
  "language_info": {
   "codemirror_mode": {
    "name": "ipython",
    "version": 3
   },
   "file_extension": ".py",
   "mimetype": "text/x-python",
   "name": "python",
   "nbconvert_exporter": "python",
   "pygments_lexer": "ipython3",
   "version": "3.9.12"
  }
 },
 "nbformat": 4,
 "nbformat_minor": 5
}
